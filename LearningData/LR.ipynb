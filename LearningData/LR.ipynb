{
 "cells": [
  {
   "cell_type": "code",
   "execution_count": 1,
   "metadata": {},
   "outputs": [],
   "source": [
    "import numpy as np"
   ]
  },
  {
   "cell_type": "code",
   "execution_count": 2,
   "metadata": {},
   "outputs": [],
   "source": [
    "import tensorflow as tf"
   ]
  },
  {
   "cell_type": "code",
   "execution_count": 3,
   "metadata": {},
   "outputs": [
    {
     "data": {
      "text/plain": [
       "'2.0.0'"
      ]
     },
     "execution_count": 3,
     "metadata": {},
     "output_type": "execute_result"
    }
   ],
   "source": [
    "tf.__version__"
   ]
  },
  {
   "cell_type": "code",
   "execution_count": 4,
   "metadata": {},
   "outputs": [
    {
     "name": "stdout",
     "output_type": "stream",
     "text": [
      "Collecting package metadata (current_repodata.json): ...working... done\n",
      "Note: you may need to restart the kernel to use updated packages.\n",
      "Solving environment: ...working... done\n",
      "\n",
      "# All requested packages already installed.\n",
      "\n",
      "\n"
     ]
    }
   ],
   "source": [
    "conda install -c conda-forge matplotlib"
   ]
  },
  {
   "cell_type": "code",
   "execution_count": 5,
   "metadata": {},
   "outputs": [],
   "source": [
    "import matplotlib.pyplot as plt"
   ]
  },
  {
   "cell_type": "code",
   "execution_count": 6,
   "metadata": {},
   "outputs": [],
   "source": [
    "import pandas as pd"
   ]
  },
  {
   "cell_type": "code",
   "execution_count": 11,
   "metadata": {},
   "outputs": [],
   "source": [
    "from pandas.io.parsers import read_csv"
   ]
  },
  {
   "cell_type": "code",
   "execution_count": 637,
   "metadata": {},
   "outputs": [],
   "source": [
    "data = read_csv(\"D:\\hihi.csv\", sep=\",\")"
   ]
  },
  {
   "cell_type": "code",
   "execution_count": 638,
   "metadata": {},
   "outputs": [],
   "source": [
    "xy = np.array(data, dtype=np.float32)"
   ]
  },
  {
   "cell_type": "code",
   "execution_count": 639,
   "metadata": {},
   "outputs": [
    {
     "data": {
      "text/html": [
       "<div>\n",
       "<style scoped>\n",
       "    .dataframe tbody tr th:only-of-type {\n",
       "        vertical-align: middle;\n",
       "    }\n",
       "\n",
       "    .dataframe tbody tr th {\n",
       "        vertical-align: top;\n",
       "    }\n",
       "\n",
       "    .dataframe thead th {\n",
       "        text-align: right;\n",
       "    }\n",
       "</style>\n",
       "<table border=\"1\" class=\"dataframe\">\n",
       "  <thead>\n",
       "    <tr style=\"text-align: right;\">\n",
       "      <th></th>\n",
       "      <th>year</th>\n",
       "      <th>avgTemp</th>\n",
       "      <th>minTemp</th>\n",
       "      <th>maxTemp</th>\n",
       "      <th>corona</th>\n",
       "      <th>result</th>\n",
       "    </tr>\n",
       "  </thead>\n",
       "  <tbody>\n",
       "    <tr>\n",
       "      <th>0</th>\n",
       "      <td>20180101</td>\n",
       "      <td>-1</td>\n",
       "      <td>-5</td>\n",
       "      <td>4</td>\n",
       "      <td>0</td>\n",
       "      <td>381</td>\n",
       "    </tr>\n",
       "    <tr>\n",
       "      <th>1</th>\n",
       "      <td>20180102</td>\n",
       "      <td>-2</td>\n",
       "      <td>-4</td>\n",
       "      <td>2</td>\n",
       "      <td>0</td>\n",
       "      <td>181</td>\n",
       "    </tr>\n",
       "    <tr>\n",
       "      <th>2</th>\n",
       "      <td>20180103</td>\n",
       "      <td>-5</td>\n",
       "      <td>-7</td>\n",
       "      <td>0</td>\n",
       "      <td>0</td>\n",
       "      <td>271</td>\n",
       "    </tr>\n",
       "  </tbody>\n",
       "</table>\n",
       "</div>"
      ],
      "text/plain": [
       "       year  avgTemp  minTemp  maxTemp  corona  result\n",
       "0  20180101       -1       -5        4       0     381\n",
       "1  20180102       -2       -4        2       0     181\n",
       "2  20180103       -5       -7        0       0     271"
      ]
     },
     "execution_count": 639,
     "metadata": {},
     "output_type": "execute_result"
    }
   ],
   "source": [
    "data.head(3)"
   ]
  },
  {
   "cell_type": "code",
   "execution_count": 640,
   "metadata": {},
   "outputs": [],
   "source": [
    "from sklearn.model_selection import train_test_split"
   ]
  },
  {
   "cell_type": "code",
   "execution_count": 641,
   "metadata": {},
   "outputs": [],
   "source": [
    "x = xy[:,1:-1]"
   ]
  },
  {
   "cell_type": "code",
   "execution_count": 642,
   "metadata": {},
   "outputs": [],
   "source": [
    "y = xy[:, -1]"
   ]
  },
  {
   "cell_type": "code",
   "execution_count": 643,
   "metadata": {},
   "outputs": [
    {
     "data": {
      "text/html": [
       "<div>\n",
       "<style scoped>\n",
       "    .dataframe tbody tr th:only-of-type {\n",
       "        vertical-align: middle;\n",
       "    }\n",
       "\n",
       "    .dataframe tbody tr th {\n",
       "        vertical-align: top;\n",
       "    }\n",
       "\n",
       "    .dataframe thead th {\n",
       "        text-align: right;\n",
       "    }\n",
       "</style>\n",
       "<table border=\"1\" class=\"dataframe\">\n",
       "  <thead>\n",
       "    <tr style=\"text-align: right;\">\n",
       "      <th></th>\n",
       "      <th>year</th>\n",
       "      <th>avgTemp</th>\n",
       "      <th>minTemp</th>\n",
       "      <th>maxTemp</th>\n",
       "      <th>corona</th>\n",
       "      <th>result</th>\n",
       "    </tr>\n",
       "  </thead>\n",
       "  <tbody>\n",
       "    <tr>\n",
       "      <th>0</th>\n",
       "      <td>20180101</td>\n",
       "      <td>-1</td>\n",
       "      <td>-5</td>\n",
       "      <td>4</td>\n",
       "      <td>0</td>\n",
       "      <td>381</td>\n",
       "    </tr>\n",
       "    <tr>\n",
       "      <th>1</th>\n",
       "      <td>20180102</td>\n",
       "      <td>-2</td>\n",
       "      <td>-4</td>\n",
       "      <td>2</td>\n",
       "      <td>0</td>\n",
       "      <td>181</td>\n",
       "    </tr>\n",
       "    <tr>\n",
       "      <th>2</th>\n",
       "      <td>20180103</td>\n",
       "      <td>-5</td>\n",
       "      <td>-7</td>\n",
       "      <td>0</td>\n",
       "      <td>0</td>\n",
       "      <td>271</td>\n",
       "    </tr>\n",
       "    <tr>\n",
       "      <th>3</th>\n",
       "      <td>20180104</td>\n",
       "      <td>-5</td>\n",
       "      <td>-9</td>\n",
       "      <td>-1</td>\n",
       "      <td>0</td>\n",
       "      <td>138</td>\n",
       "    </tr>\n",
       "    <tr>\n",
       "      <th>4</th>\n",
       "      <td>20180105</td>\n",
       "      <td>-3</td>\n",
       "      <td>-6</td>\n",
       "      <td>2</td>\n",
       "      <td>0</td>\n",
       "      <td>160</td>\n",
       "    </tr>\n",
       "  </tbody>\n",
       "</table>\n",
       "</div>"
      ],
      "text/plain": [
       "       year  avgTemp  minTemp  maxTemp  corona  result\n",
       "0  20180101       -1       -5        4       0     381\n",
       "1  20180102       -2       -4        2       0     181\n",
       "2  20180103       -5       -7        0       0     271\n",
       "3  20180104       -5       -9       -1       0     138\n",
       "4  20180105       -3       -6        2       0     160"
      ]
     },
     "execution_count": 643,
     "metadata": {},
     "output_type": "execute_result"
    }
   ],
   "source": [
    "data.head(5)"
   ]
  },
  {
   "cell_type": "code",
   "execution_count": 644,
   "metadata": {},
   "outputs": [],
   "source": [
    "df_cor = data.corr()"
   ]
  },
  {
   "cell_type": "code",
   "execution_count": 645,
   "metadata": {},
   "outputs": [
    {
     "name": "stderr",
     "output_type": "stream",
     "text": [
      "D:\\tensorflow\\envs\\tens_2\\lib\\site-packages\\pandas\\io\\formats\\style.py:1126: RuntimeWarning: All-NaN slice encountered\n",
      "  smin = np.nanmin(s.to_numpy()) if vmin is None else vmin\n",
      "D:\\tensorflow\\envs\\tens_2\\lib\\site-packages\\pandas\\io\\formats\\style.py:1127: RuntimeWarning: All-NaN slice encountered\n",
      "  smax = np.nanmax(s.to_numpy()) if vmax is None else vmax\n"
     ]
    },
    {
     "data": {
      "text/html": [
       "<style  type=\"text/css\" >\n",
       "#T_e3c1043a_e507_11ea_b91a_30e37ab1a453row0_col0,#T_e3c1043a_e507_11ea_b91a_30e37ab1a453row1_col1,#T_e3c1043a_e507_11ea_b91a_30e37ab1a453row2_col2,#T_e3c1043a_e507_11ea_b91a_30e37ab1a453row3_col3,#T_e3c1043a_e507_11ea_b91a_30e37ab1a453row5_col5{\n",
       "            background-color:  #b40426;\n",
       "            color:  #f1f1f1;\n",
       "        }#T_e3c1043a_e507_11ea_b91a_30e37ab1a453row0_col1,#T_e3c1043a_e507_11ea_b91a_30e37ab1a453row0_col2,#T_e3c1043a_e507_11ea_b91a_30e37ab1a453row0_col3,#T_e3c1043a_e507_11ea_b91a_30e37ab1a453row2_col0,#T_e3c1043a_e507_11ea_b91a_30e37ab1a453row2_col5{\n",
       "            background-color:  #3b4cc0;\n",
       "            color:  #f1f1f1;\n",
       "        }#T_e3c1043a_e507_11ea_b91a_30e37ab1a453row0_col4,#T_e3c1043a_e507_11ea_b91a_30e37ab1a453row1_col4,#T_e3c1043a_e507_11ea_b91a_30e37ab1a453row2_col4,#T_e3c1043a_e507_11ea_b91a_30e37ab1a453row3_col4,#T_e3c1043a_e507_11ea_b91a_30e37ab1a453row4_col0,#T_e3c1043a_e507_11ea_b91a_30e37ab1a453row4_col1,#T_e3c1043a_e507_11ea_b91a_30e37ab1a453row4_col2,#T_e3c1043a_e507_11ea_b91a_30e37ab1a453row4_col3,#T_e3c1043a_e507_11ea_b91a_30e37ab1a453row4_col4,#T_e3c1043a_e507_11ea_b91a_30e37ab1a453row4_col5,#T_e3c1043a_e507_11ea_b91a_30e37ab1a453row5_col4{\n",
       "            background-color:  #000000;\n",
       "            color:  #f1f1f1;\n",
       "        }#T_e3c1043a_e507_11ea_b91a_30e37ab1a453row0_col5{\n",
       "            background-color:  #88abfd;\n",
       "            color:  #000000;\n",
       "        }#T_e3c1043a_e507_11ea_b91a_30e37ab1a453row1_col0{\n",
       "            background-color:  #3c4ec2;\n",
       "            color:  #f1f1f1;\n",
       "        }#T_e3c1043a_e507_11ea_b91a_30e37ab1a453row1_col2,#T_e3c1043a_e507_11ea_b91a_30e37ab1a453row1_col3,#T_e3c1043a_e507_11ea_b91a_30e37ab1a453row2_col1,#T_e3c1043a_e507_11ea_b91a_30e37ab1a453row3_col1{\n",
       "            background-color:  #b70d28;\n",
       "            color:  #f1f1f1;\n",
       "        }#T_e3c1043a_e507_11ea_b91a_30e37ab1a453row1_col5{\n",
       "            background-color:  #4961d2;\n",
       "            color:  #f1f1f1;\n",
       "        }#T_e3c1043a_e507_11ea_b91a_30e37ab1a453row2_col3,#T_e3c1043a_e507_11ea_b91a_30e37ab1a453row3_col2{\n",
       "            background-color:  #c0282f;\n",
       "            color:  #f1f1f1;\n",
       "        }#T_e3c1043a_e507_11ea_b91a_30e37ab1a453row3_col0{\n",
       "            background-color:  #3d50c3;\n",
       "            color:  #f1f1f1;\n",
       "        }#T_e3c1043a_e507_11ea_b91a_30e37ab1a453row3_col5{\n",
       "            background-color:  #5875e1;\n",
       "            color:  #000000;\n",
       "        }#T_e3c1043a_e507_11ea_b91a_30e37ab1a453row5_col0{\n",
       "            background-color:  #a5c3fe;\n",
       "            color:  #000000;\n",
       "        }#T_e3c1043a_e507_11ea_b91a_30e37ab1a453row5_col1{\n",
       "            background-color:  #688aef;\n",
       "            color:  #000000;\n",
       "        }#T_e3c1043a_e507_11ea_b91a_30e37ab1a453row5_col2{\n",
       "            background-color:  #5b7ae5;\n",
       "            color:  #000000;\n",
       "        }#T_e3c1043a_e507_11ea_b91a_30e37ab1a453row5_col3{\n",
       "            background-color:  #7699f6;\n",
       "            color:  #000000;\n",
       "        }</style><table id=\"T_e3c1043a_e507_11ea_b91a_30e37ab1a453\" ><thead>    <tr>        <th class=\"blank level0\" ></th>        <th class=\"col_heading level0 col0\" >year</th>        <th class=\"col_heading level0 col1\" >avgTemp</th>        <th class=\"col_heading level0 col2\" >minTemp</th>        <th class=\"col_heading level0 col3\" >maxTemp</th>        <th class=\"col_heading level0 col4\" >corona</th>        <th class=\"col_heading level0 col5\" >result</th>    </tr></thead><tbody>\n",
       "                <tr>\n",
       "                        <th id=\"T_e3c1043a_e507_11ea_b91a_30e37ab1a453level0_row0\" class=\"row_heading level0 row0\" >year</th>\n",
       "                        <td id=\"T_e3c1043a_e507_11ea_b91a_30e37ab1a453row0_col0\" class=\"data row0 col0\" >1.000</td>\n",
       "                        <td id=\"T_e3c1043a_e507_11ea_b91a_30e37ab1a453row0_col1\" class=\"data row0 col1\" >-0.115</td>\n",
       "                        <td id=\"T_e3c1043a_e507_11ea_b91a_30e37ab1a453row0_col2\" class=\"data row0 col2\" >-0.121</td>\n",
       "                        <td id=\"T_e3c1043a_e507_11ea_b91a_30e37ab1a453row0_col3\" class=\"data row0 col3\" >-0.110</td>\n",
       "                        <td id=\"T_e3c1043a_e507_11ea_b91a_30e37ab1a453row0_col4\" class=\"data row0 col4\" >nan</td>\n",
       "                        <td id=\"T_e3c1043a_e507_11ea_b91a_30e37ab1a453row0_col5\" class=\"data row0 col5\" >0.236</td>\n",
       "            </tr>\n",
       "            <tr>\n",
       "                        <th id=\"T_e3c1043a_e507_11ea_b91a_30e37ab1a453level0_row1\" class=\"row_heading level0 row1\" >avgTemp</th>\n",
       "                        <td id=\"T_e3c1043a_e507_11ea_b91a_30e37ab1a453row1_col0\" class=\"data row1 col0\" >-0.115</td>\n",
       "                        <td id=\"T_e3c1043a_e507_11ea_b91a_30e37ab1a453row1_col1\" class=\"data row1 col1\" >1.000</td>\n",
       "                        <td id=\"T_e3c1043a_e507_11ea_b91a_30e37ab1a453row1_col2\" class=\"data row1 col2\" >0.988</td>\n",
       "                        <td id=\"T_e3c1043a_e507_11ea_b91a_30e37ab1a453row1_col3\" class=\"data row1 col3\" >0.990</td>\n",
       "                        <td id=\"T_e3c1043a_e507_11ea_b91a_30e37ab1a453row1_col4\" class=\"data row1 col4\" >nan</td>\n",
       "                        <td id=\"T_e3c1043a_e507_11ea_b91a_30e37ab1a453row1_col5\" class=\"data row1 col5\" >0.049</td>\n",
       "            </tr>\n",
       "            <tr>\n",
       "                        <th id=\"T_e3c1043a_e507_11ea_b91a_30e37ab1a453level0_row2\" class=\"row_heading level0 row2\" >minTemp</th>\n",
       "                        <td id=\"T_e3c1043a_e507_11ea_b91a_30e37ab1a453row2_col0\" class=\"data row2 col0\" >-0.121</td>\n",
       "                        <td id=\"T_e3c1043a_e507_11ea_b91a_30e37ab1a453row2_col1\" class=\"data row2 col1\" >0.988</td>\n",
       "                        <td id=\"T_e3c1043a_e507_11ea_b91a_30e37ab1a453row2_col2\" class=\"data row2 col2\" >1.000</td>\n",
       "                        <td id=\"T_e3c1043a_e507_11ea_b91a_30e37ab1a453row2_col3\" class=\"data row2 col3\" >0.962</td>\n",
       "                        <td id=\"T_e3c1043a_e507_11ea_b91a_30e37ab1a453row2_col4\" class=\"data row2 col4\" >nan</td>\n",
       "                        <td id=\"T_e3c1043a_e507_11ea_b91a_30e37ab1a453row2_col5\" class=\"data row2 col5\" >0.001</td>\n",
       "            </tr>\n",
       "            <tr>\n",
       "                        <th id=\"T_e3c1043a_e507_11ea_b91a_30e37ab1a453level0_row3\" class=\"row_heading level0 row3\" >maxTemp</th>\n",
       "                        <td id=\"T_e3c1043a_e507_11ea_b91a_30e37ab1a453row3_col0\" class=\"data row3 col0\" >-0.110</td>\n",
       "                        <td id=\"T_e3c1043a_e507_11ea_b91a_30e37ab1a453row3_col1\" class=\"data row3 col1\" >0.990</td>\n",
       "                        <td id=\"T_e3c1043a_e507_11ea_b91a_30e37ab1a453row3_col2\" class=\"data row3 col2\" >0.962</td>\n",
       "                        <td id=\"T_e3c1043a_e507_11ea_b91a_30e37ab1a453row3_col3\" class=\"data row3 col3\" >1.000</td>\n",
       "                        <td id=\"T_e3c1043a_e507_11ea_b91a_30e37ab1a453row3_col4\" class=\"data row3 col4\" >nan</td>\n",
       "                        <td id=\"T_e3c1043a_e507_11ea_b91a_30e37ab1a453row3_col5\" class=\"data row3 col5\" >0.095</td>\n",
       "            </tr>\n",
       "            <tr>\n",
       "                        <th id=\"T_e3c1043a_e507_11ea_b91a_30e37ab1a453level0_row4\" class=\"row_heading level0 row4\" >corona</th>\n",
       "                        <td id=\"T_e3c1043a_e507_11ea_b91a_30e37ab1a453row4_col0\" class=\"data row4 col0\" >nan</td>\n",
       "                        <td id=\"T_e3c1043a_e507_11ea_b91a_30e37ab1a453row4_col1\" class=\"data row4 col1\" >nan</td>\n",
       "                        <td id=\"T_e3c1043a_e507_11ea_b91a_30e37ab1a453row4_col2\" class=\"data row4 col2\" >nan</td>\n",
       "                        <td id=\"T_e3c1043a_e507_11ea_b91a_30e37ab1a453row4_col3\" class=\"data row4 col3\" >nan</td>\n",
       "                        <td id=\"T_e3c1043a_e507_11ea_b91a_30e37ab1a453row4_col4\" class=\"data row4 col4\" >nan</td>\n",
       "                        <td id=\"T_e3c1043a_e507_11ea_b91a_30e37ab1a453row4_col5\" class=\"data row4 col5\" >nan</td>\n",
       "            </tr>\n",
       "            <tr>\n",
       "                        <th id=\"T_e3c1043a_e507_11ea_b91a_30e37ab1a453level0_row5\" class=\"row_heading level0 row5\" >result</th>\n",
       "                        <td id=\"T_e3c1043a_e507_11ea_b91a_30e37ab1a453row5_col0\" class=\"data row5 col0\" >0.236</td>\n",
       "                        <td id=\"T_e3c1043a_e507_11ea_b91a_30e37ab1a453row5_col1\" class=\"data row5 col1\" >0.049</td>\n",
       "                        <td id=\"T_e3c1043a_e507_11ea_b91a_30e37ab1a453row5_col2\" class=\"data row5 col2\" >0.001</td>\n",
       "                        <td id=\"T_e3c1043a_e507_11ea_b91a_30e37ab1a453row5_col3\" class=\"data row5 col3\" >0.095</td>\n",
       "                        <td id=\"T_e3c1043a_e507_11ea_b91a_30e37ab1a453row5_col4\" class=\"data row5 col4\" >nan</td>\n",
       "                        <td id=\"T_e3c1043a_e507_11ea_b91a_30e37ab1a453row5_col5\" class=\"data row5 col5\" >1.000</td>\n",
       "            </tr>\n",
       "    </tbody></table>"
      ],
      "text/plain": [
       "<pandas.io.formats.style.Styler at 0x16603b0cb48>"
      ]
     },
     "execution_count": 645,
     "metadata": {},
     "output_type": "execute_result"
    }
   ],
   "source": [
    "df_cor.style.background_gradient(cmap=\"coolwarm\").set_precision(3)"
   ]
  },
  {
   "cell_type": "code",
   "execution_count": 646,
   "metadata": {},
   "outputs": [
    {
     "data": {
      "text/plain": [
       "(760, 6)"
      ]
     },
     "execution_count": 646,
     "metadata": {},
     "output_type": "execute_result"
    }
   ],
   "source": [
    "xy.shape"
   ]
  },
  {
   "cell_type": "code",
   "execution_count": 647,
   "metadata": {},
   "outputs": [],
   "source": [
    "cor_target=abs(df_cor['result'])"
   ]
  },
  {
   "cell_type": "code",
   "execution_count": 648,
   "metadata": {},
   "outputs": [],
   "source": [
    "relevant_features = cor_target[cor_target>0.04].index.values.tolist()"
   ]
  },
  {
   "cell_type": "code",
   "execution_count": 649,
   "metadata": {},
   "outputs": [],
   "source": [
    "df_fin=data[relevant_features]"
   ]
  },
  {
   "cell_type": "code",
   "execution_count": 650,
   "metadata": {},
   "outputs": [
    {
     "data": {
      "text/html": [
       "<div>\n",
       "<style scoped>\n",
       "    .dataframe tbody tr th:only-of-type {\n",
       "        vertical-align: middle;\n",
       "    }\n",
       "\n",
       "    .dataframe tbody tr th {\n",
       "        vertical-align: top;\n",
       "    }\n",
       "\n",
       "    .dataframe thead th {\n",
       "        text-align: right;\n",
       "    }\n",
       "</style>\n",
       "<table border=\"1\" class=\"dataframe\">\n",
       "  <thead>\n",
       "    <tr style=\"text-align: right;\">\n",
       "      <th></th>\n",
       "      <th>year</th>\n",
       "      <th>avgTemp</th>\n",
       "      <th>maxTemp</th>\n",
       "      <th>result</th>\n",
       "    </tr>\n",
       "  </thead>\n",
       "  <tbody>\n",
       "    <tr>\n",
       "      <th>0</th>\n",
       "      <td>20180101</td>\n",
       "      <td>-1</td>\n",
       "      <td>4</td>\n",
       "      <td>381</td>\n",
       "    </tr>\n",
       "    <tr>\n",
       "      <th>1</th>\n",
       "      <td>20180102</td>\n",
       "      <td>-2</td>\n",
       "      <td>2</td>\n",
       "      <td>181</td>\n",
       "    </tr>\n",
       "    <tr>\n",
       "      <th>2</th>\n",
       "      <td>20180103</td>\n",
       "      <td>-5</td>\n",
       "      <td>0</td>\n",
       "      <td>271</td>\n",
       "    </tr>\n",
       "  </tbody>\n",
       "</table>\n",
       "</div>"
      ],
      "text/plain": [
       "       year  avgTemp  maxTemp  result\n",
       "0  20180101       -1        4     381\n",
       "1  20180102       -2        2     181\n",
       "2  20180103       -5        0     271"
      ]
     },
     "execution_count": 650,
     "metadata": {},
     "output_type": "execute_result"
    }
   ],
   "source": [
    "df_fin.head(3)"
   ]
  },
  {
   "cell_type": "code",
   "execution_count": 651,
   "metadata": {},
   "outputs": [
    {
     "data": {
      "text/plain": [
       "array([[ 2.0180100e+07, -1.0000000e+00, -5.0000000e+00,  4.0000000e+00,\n",
       "         0.0000000e+00,  3.8100000e+02],\n",
       "       [ 2.0180102e+07, -2.0000000e+00, -4.0000000e+00,  2.0000000e+00,\n",
       "         0.0000000e+00,  1.8100000e+02],\n",
       "       [ 2.0180104e+07, -5.0000000e+00, -7.0000000e+00,  0.0000000e+00,\n",
       "         0.0000000e+00,  2.7100000e+02]], dtype=float32)"
      ]
     },
     "execution_count": 651,
     "metadata": {},
     "output_type": "execute_result"
    }
   ],
   "source": [
    "xy[0:3, :]"
   ]
  },
  {
   "cell_type": "code",
   "execution_count": 652,
   "metadata": {},
   "outputs": [],
   "source": [
    "from sklearn.model_selection import train_test_split"
   ]
  },
  {
   "cell_type": "code",
   "execution_count": 653,
   "metadata": {},
   "outputs": [],
   "source": [
    "x = xy[:,1:-1]"
   ]
  },
  {
   "cell_type": "code",
   "execution_count": 654,
   "metadata": {},
   "outputs": [],
   "source": [
    "y = xy[:,-1]"
   ]
  },
  {
   "cell_type": "code",
   "execution_count": 655,
   "metadata": {},
   "outputs": [],
   "source": [
    "x_train_all, x_test, y_train_all, y_test = train_test_split(x,y,test_size=0.2, random_state=42)"
   ]
  },
  {
   "cell_type": "code",
   "execution_count": 656,
   "metadata": {},
   "outputs": [],
   "source": [
    "x_train, x_val, y_train, y_val = train_test_split(x_train_all,y_train_all, test_size=0.2, random_state=42)"
   ]
  },
  {
   "cell_type": "code",
   "execution_count": 657,
   "metadata": {},
   "outputs": [
    {
     "data": {
      "text/plain": [
       "array([ 381.,  181.,  271.,  138.,  160.,  222.,  221.,  127.,   86.,\n",
       "         76.,   77.,  123.,  164.,  117.,  203.,   99.,  217.,  185.,\n",
       "        290.,   88.,   32.,   39.,   44.,   74.,  123.,   93.,  195.,\n",
       "        158.,  182.,  153.,  110.,  108.,  148.,  101.,  186.,  135.,\n",
       "        126.,  175.,  147.,  316.,  572.,  537.,  520.,  231.,  212.,\n",
       "        194.,  165.,  236.,  343.,  105.,  129.,  291.,  233.,  404.,\n",
       "        246.,  303.,  209.,  181.,  215.,  288.,  472.,  247.,  373.,\n",
       "         65.,  258.,  529.,  392.,  217.,  122.,  322.,  278.,  355.,\n",
       "        318.,  231.,  345.,  191.,  320.,  498.,  419.,  272.,  482.,\n",
       "         30.,  317.,  262.,  215.,  323.,  223.,  300.,  272.,   72.,\n",
       "        424.,  268.,  338.,  231.,  187.,  372.,  179.,  223.,  636.,\n",
       "        355.,  348.,  443.,  481.,  373.,   62.,  142.,  323.,  496.,\n",
       "        221.,  512.,  277.,  337.,  358.,  392.,   99.,  548.,  191.,\n",
       "         40.,   82.,   79.,  472.,  402.,  414.,  345.,  333.,  171.,\n",
       "        396.,  417.,  274.,  391.,  372.,  322.,  309.,  366.,  254.,\n",
       "        451.,  156.,  224.,  340.,  407.,  329.,  385.,  135.,  354.,\n",
       "        413.,  395.,  224.,  301.,  226.,  230.,  286.,  260.,    9.,\n",
       "        289.,  135.,  196.,  197.,   31.,  290.,  212.,  174.,  252.,\n",
       "        193.,  277.,  151.,   91.,  235.,  219.,  209.,  132.,  118.,\n",
       "        117.,   84.,  101.,   96.,   91.,   57.,  111.,   64.,   60.,\n",
       "         79.,   70.,   55.,   38.,   45.,   36.,   66.,   60.,   56.,\n",
       "         55.,   76.,   53.,   56.,   98.,   47.,   84.,   79.,  140.,\n",
       "        145.,  130.,  109.,   79.,   91.,   71.,  163.,  154.,   88.,\n",
       "         92.,  140.,  193.,  213.,  231.,  124.,  207.,  213.,  219.,\n",
       "        314.,  363.,  319.,  182.,  187.,  230.,  226.,  111.,  276.,\n",
       "        218.,   46.,   63.,  292.,  476., 1165., 1005., 1170.,  215.,\n",
       "        291.,  348.,  410.,  305.,  508.,  186.,   24.,  106.,  464.,\n",
       "        358.,  164.,  459.,  379.,  291.,  396.,  253.,  362.,  285.,\n",
       "        302.,  422.,  462.,  155.,  447.,  393.,   97.,  608.,  245.,\n",
       "        252.,  490.,  285.,  399.,  462.,  633.,  266.,   89.,   20.,\n",
       "        208.,  285.,  217.,  303.,  258.,  143.,  104.,  260.,  233.,\n",
       "        263.,  123.,   96.,  145.,   14.,  181.,  113.,  244.,   86.,\n",
       "        116.,  171.,  181.,  161.,  146.,  192.,   77.,   85.,  122.,\n",
       "         78.,  151.,   92.,   85.,  128.,  100.,  112.,  195.,  128.,\n",
       "        116.,  176.,  247.,  165.,  227.,   99.,   81.,   92.,  117.,\n",
       "        163.,  114.,  119.,  143.,  146.,  184.,  142.,  140.,  164.,\n",
       "        133.,  163.,  147.,   61.,  165.,  177.,  140.,  139.,  141.,\n",
       "        137.,  177.,  177.,   99.,  213.,  228.,  187.,  196.,  121.,\n",
       "        141.,  134.,   88.,  278.,  748.,  676.,  156.,  139.,  203.,\n",
       "        227.,  164.,  131.,  199.,   64.,  167.,  185.,  122.,  133.,\n",
       "        174.,  193.,  197.,  345.,  161.,  301.,  178.,  370.,  230.,\n",
       "        288.,   93.,   69.,  211.,  193.,  342.,  250.,   58.,  128.,\n",
       "        205.,  175.,  314.,  364.,  243.,   90.,  159.,  200.,  162.,\n",
       "        333.,  255.,  309.,  202.,  306.,  177.,  248.,  233.,  293.,\n",
       "        219.,  177.,  192.,  683.,  195.,   92.,  387.,  274.,  544.,\n",
       "        308.,  267.,  301.,  143.,  372.,  411.,  527.,  235.,  382.,\n",
       "        154.,  103.,  562.,  424.,  435.,  473.,  288.,  296.,  245.,\n",
       "        486.,  517.,  323.,  207.,  312.,  189.,  367.,  294.,  186.,\n",
       "        248.,  269.,  220.,  386.,  146.,  258.,  219.,  243.,  128.,\n",
       "        293.,  344.,  213.,  387.,  231.,  307.,  393.,  387.,  226.,\n",
       "        273.,  293.,  104.,  329.,  303.,  260.,  177.,  205.,  270.,\n",
       "        258.,  407.,  109.,  143.,  328.,  236.,  343.,  384.,  169.,\n",
       "        401.,  275.,  204.,  298.,  618.,  154.,  172.,  186.,   72.,\n",
       "        137.,  231.,  128.,  136.,  127.,  141.,  236.,  160.,  101.,\n",
       "        141.,  136.,   75.,  142.,  113.,  122.,   96.,   66.,   27.,\n",
       "        131.,   69.,  135.,   96.,  131.,  131.,   85.,  107.,   86.,\n",
       "         40.,   67.,   68.,   72.,  139.,  110.,   97.,  134.,  139.,\n",
       "        218.,  339.,  356.,  335.,  313.,  309.,  432.,  494.,  138.,\n",
       "        156.,  142.,  205.,  267.,  331.,  190.,   28.,   53.,  207.,\n",
       "         21.,  250.,   49.,  125.,  490., 1015.,  752.,  614.,  232.,\n",
       "        338.,  143.,  237.,  283.,  195.,  313.,  515.,  237.,  263.,\n",
       "        345.,  328.,  190.,  156.,  382.,  298.,  192.,  310.,  270.,\n",
       "        440.,  229.,  438.,  339.,  477.,  306.,  288.,  237.,  298.,\n",
       "        626.,  380.,  204.,  390.,  462.,  437.,  830.,  602.,  287.,\n",
       "        553.,  280.,  228.,  235.,  422.,  448.,  331.,  410.,  255.,\n",
       "        410.,  480.,  303.,   60.,  213.,   93.,  450.,  200.,  234.,\n",
       "        190.,  223.,  231.,  370.,  240.,  348.,  402.,  214.,  222.,\n",
       "        297.,  124.,  312.,  248.,  152.,  141.,  201.,  226.,  152.,\n",
       "        164.,  192.,  173.,  267.,  301.,   45.,  207.,  199.,  218.,\n",
       "        209.,  247.,  224.,  402.,  163.,  206.,  236.,  252.,  137.,\n",
       "        248.,  242.,  200.,  248.,  287.,   53.,  132.,  195.,  184.,\n",
       "        228.,  322.,  209.,  186.,  218.,  172.,  238.,  208.,  213.,\n",
       "        218.,  190.,  445.,  654.,  659.,  510.,  205.,  363.,  268.,\n",
       "        235.,  290.,  266.,  249.,   96.,   95.,  156.,  294.,  372.,\n",
       "        289.,   40.,  273.,  249.,  355.,  128.,  214.,  227.,  266.,\n",
       "        181.,  125.,  489.,   67.,  230.,  478.,   79.,  665.,  396.,\n",
       "        377.,  229.,  407.,  413.,  596.,  753.,  120.,   80.,  445.,\n",
       "        390.,  561.,  569.,  356.,  490.,  127.,  479.,  734.,  968.,\n",
       "        617.,  962.,  391.,  548.,  698.,  100.,  150.,  100.,  621.,\n",
       "        250.,  200.,  100.,  472.,  449.,  630.,  453.,  595.,  569.,\n",
       "        521.,  698.,  482.,  113.,  870.,  343.,  290.,  205.,  417.,\n",
       "        380.,  440.,  644.,  501.,  709.,  676.,  427.,  491.,  515.,\n",
       "        543.,  337.,  364.,  297.,   68.,  433.,  100.,  337.,  385.,\n",
       "         40.,  402.,  607.,  260.,  408.,  457.,  311.,  474.,  495.,\n",
       "        350.,  625.,  100.,  353.], dtype=float32)"
      ]
     },
     "execution_count": 657,
     "metadata": {},
     "output_type": "execute_result"
    }
   ],
   "source": [
    "y"
   ]
  },
  {
   "cell_type": "code",
   "execution_count": 658,
   "metadata": {},
   "outputs": [],
   "source": [
    "from sklearn.linear_model import LinearRegression as LR"
   ]
  },
  {
   "cell_type": "code",
   "execution_count": 659,
   "metadata": {},
   "outputs": [],
   "source": [
    "df_fit = LR().fit(x_train, y_train)"
   ]
  },
  {
   "cell_type": "code",
   "execution_count": 660,
   "metadata": {},
   "outputs": [],
   "source": [
    "y_pred = df_fit.predict(x_test)"
   ]
  },
  {
   "cell_type": "code",
   "execution_count": 661,
   "metadata": {},
   "outputs": [],
   "source": [
    "import matplotlib.pyplot as plt"
   ]
  },
  {
   "cell_type": "code",
   "execution_count": 662,
   "metadata": {},
   "outputs": [
    {
     "data": {
      "text/plain": [
       "<Figure size 360x360 with 0 Axes>"
      ]
     },
     "execution_count": 662,
     "metadata": {},
     "output_type": "execute_result"
    },
    {
     "data": {
      "text/plain": [
       "<Figure size 360x360 with 0 Axes>"
      ]
     },
     "metadata": {},
     "output_type": "display_data"
    }
   ],
   "source": [
    "plt.figure(figsize=(5,5))"
   ]
  },
  {
   "cell_type": "code",
   "execution_count": 663,
   "metadata": {},
   "outputs": [
    {
     "data": {
      "text/plain": [
       "<matplotlib.collections.PathCollection at 0x16603b6ec88>"
      ]
     },
     "execution_count": 663,
     "metadata": {},
     "output_type": "execute_result"
    },
    {
     "data": {
      "image/png": "[encoded data removed]",
      "text/plain": [
       "<Figure size 432x288 with 1 Axes>"
      ]
     },
     "metadata": {
      "needs_background": "light"
     },
     "output_type": "display_data"
    }
   ],
   "source": [
    "plt.scatter(y_test,y_pred)"
   ]
  },
  {
   "cell_type": "code",
   "execution_count": 664,
   "metadata": {},
   "outputs": [],
   "source": [
    "plt.show()"
   ]
  },
  {
   "cell_type": "code",
   "execution_count": 665,
   "metadata": {},
   "outputs": [],
   "source": [
    "from keras.models import load_model"
   ]
  },
  {
   "cell_type": "code",
   "execution_count": 666,
   "metadata": {},
   "outputs": [],
   "source": [
    "model = tf.keras.models.Sequential()"
   ]
  },
  {
   "cell_type": "code",
   "execution_count": 667,
   "metadata": {},
   "outputs": [],
   "source": [
    "model.add(tf.keras.Input(shape=(4,)))"
   ]
  },
  {
   "cell_type": "code",
   "execution_count": 668,
   "metadata": {},
   "outputs": [],
   "source": [
    "model.add(tf.keras.layers.Dense(1))"
   ]
  },
  {
   "cell_type": "code",
   "execution_count": 669,
   "metadata": {},
   "outputs": [],
   "source": [
    "model.compile(loss='mse', optimizer=tf.keras.optimizers.SGD(1.5e-4))"
   ]
  },
  {
   "cell_type": "code",
   "execution_count": 670,
   "metadata": {},
   "outputs": [
    {
     "name": "stdout",
     "output_type": "stream",
     "text": [
      "Train on 486 samples, validate on 122 samples\n",
      "Epoch 1/200\n",
      "486/486 [==============================] - 1s 2ms/sample - loss: 57993.7729 - val_loss: 42038.9700\n",
      "Epoch 2/200\n",
      "486/486 [==============================] - 0s 109us/sample - loss: 45542.7161 - val_loss: 37863.4355\n",
      "Epoch 3/200\n",
      "486/486 [==============================] - 0s 90us/sample - loss: 42319.6566 - val_loss: 34477.0797\n",
      "Epoch 4/200\n",
      "486/486 [==============================] - 0s 82us/sample - loss: 39039.3462 - val_loss: 32219.2870\n",
      "Epoch 5/200\n",
      "486/486 [==============================] - 0s 74us/sample - loss: 36828.3293 - val_loss: 30255.6339\n",
      "Epoch 6/200\n",
      "486/486 [==============================] - 0s 70us/sample - loss: 34752.3927 - val_loss: 27844.2674\n",
      "Epoch 7/200\n",
      "486/486 [==============================] - 0s 66us/sample - loss: 33129.1391 - val_loss: 26455.3912\n",
      "Epoch 8/200\n",
      "486/486 [==============================] - 0s 82us/sample - loss: 32080.2011 - val_loss: 27684.7552\n",
      "Epoch 9/200\n",
      "486/486 [==============================] - 0s 101us/sample - loss: 31395.5345 - val_loss: 24441.6974\n",
      "Epoch 10/200\n",
      "486/486 [==============================] - 0s 72us/sample - loss: 30083.3876 - val_loss: 23658.0355\n",
      "Epoch 11/200\n",
      "486/486 [==============================] - 0s 70us/sample - loss: 29663.2460 - val_loss: 27087.2390\n",
      "Epoch 12/200\n",
      "486/486 [==============================] - 0s 80us/sample - loss: 30047.6033 - val_loss: 22045.8318\n",
      "Epoch 13/200\n",
      "486/486 [==============================] - 0s 88us/sample - loss: 28578.1063 - val_loss: 21609.8797\n",
      "Epoch 14/200\n",
      "486/486 [==============================] - 0s 215us/sample - loss: 28220.9539 - val_loss: 21345.8615\n",
      "Epoch 15/200\n",
      "486/486 [==============================] - 0s 107us/sample - loss: 27879.9544 - val_loss: 21306.7451\n",
      "Epoch 16/200\n",
      "486/486 [==============================] - 0s 82us/sample - loss: 27638.1194 - val_loss: 20477.8300\n",
      "Epoch 17/200\n",
      "486/486 [==============================] - 0s 92us/sample - loss: 27394.8921 - val_loss: 20775.3012\n",
      "Epoch 18/200\n",
      "486/486 [==============================] - 0s 92us/sample - loss: 27440.1637 - val_loss: 20061.0628\n",
      "Epoch 19/200\n",
      "486/486 [==============================] - 0s 82us/sample - loss: 27247.6156 - val_loss: 19950.7335\n",
      "Epoch 20/200\n",
      "486/486 [==============================] - 0s 70us/sample - loss: 27021.6933 - val_loss: 20626.1698\n",
      "Epoch 21/200\n",
      "486/486 [==============================] - 0s 86us/sample - loss: 26994.4329 - val_loss: 19622.1582\n",
      "Epoch 22/200\n",
      "486/486 [==============================] - 0s 88us/sample - loss: 26975.4835 - val_loss: 19936.6994\n",
      "Epoch 23/200\n",
      "486/486 [==============================] - 0s 575us/sample - loss: 27070.7842 - val_loss: 19515.7636\n",
      "Epoch 24/200\n",
      "486/486 [==============================] - 0s 109us/sample - loss: 26730.5149 - val_loss: 19610.3607\n",
      "Epoch 25/200\n",
      "486/486 [==============================] - 0s 119us/sample - loss: 26692.7397 - val_loss: 19609.6001\n",
      "Epoch 26/200\n",
      "486/486 [==============================] - 0s 80us/sample - loss: 26758.6893 - val_loss: 19868.4688\n",
      "Epoch 27/200\n",
      "486/486 [==============================] - 0s 70us/sample - loss: 26859.3571 - val_loss: 19865.8913\n",
      "Epoch 28/200\n",
      "486/486 [==============================] - 0s 68us/sample - loss: 26763.0566 - val_loss: 19254.9975\n",
      "Epoch 29/200\n",
      "486/486 [==============================] - 0s 94us/sample - loss: 26686.3543 - val_loss: 19318.5166\n",
      "Epoch 30/200\n",
      "486/486 [==============================] - 0s 94us/sample - loss: 26615.9614 - val_loss: 18994.7600\n",
      "Epoch 31/200\n",
      "486/486 [==============================] - 0s 84us/sample - loss: 26679.2421 - val_loss: 19037.6149\n",
      "Epoch 32/200\n",
      "486/486 [==============================] - 0s 78us/sample - loss: 26900.4285 - val_loss: 19008.5185\n",
      "Epoch 33/200\n",
      "486/486 [==============================] - 0s 78us/sample - loss: 26605.3002 - val_loss: 20165.2346\n",
      "Epoch 34/200\n",
      "486/486 [==============================] - 0s 72us/sample - loss: 27003.8155 - val_loss: 18861.0509\n",
      "Epoch 35/200\n",
      "486/486 [==============================] - 0s 74us/sample - loss: 26612.8450 - val_loss: 18874.0836\n",
      "Epoch 36/200\n",
      "486/486 [==============================] - 0s 76us/sample - loss: 26675.0872 - val_loss: 18871.8949\n",
      "Epoch 37/200\n",
      "486/486 [==============================] - 0s 90us/sample - loss: 26466.4109 - val_loss: 19248.5310\n",
      "Epoch 38/200\n",
      "486/486 [==============================] - 0s 96us/sample - loss: 26565.0857 - val_loss: 19291.6561\n",
      "Epoch 39/200\n",
      "486/486 [==============================] - 0s 82us/sample - loss: 26638.3447 - val_loss: 18983.1627\n",
      "Epoch 40/200\n",
      "486/486 [==============================] - 0s 82us/sample - loss: 26837.6479 - val_loss: 19369.5903\n",
      "Epoch 41/200\n",
      "486/486 [==============================] - 0s 123us/sample - loss: 26562.1247 - val_loss: 20568.3290\n",
      "Epoch 42/200\n",
      "486/486 [==============================] - 0s 127us/sample - loss: 27331.5462 - val_loss: 23865.0608\n",
      "Epoch 43/200\n",
      "486/486 [==============================] - 0s 90us/sample - loss: 27404.4185 - val_loss: 18855.4149\n",
      "Epoch 44/200\n",
      "486/486 [==============================] - 0s 76us/sample - loss: 26788.6713 - val_loss: 18830.7474\n",
      "Epoch 45/200\n",
      "486/486 [==============================] - 0s 78us/sample - loss: 26732.6275 - val_loss: 18873.0571\n",
      "Epoch 46/200\n",
      "486/486 [==============================] - 0s 226us/sample - loss: 26766.6264 - val_loss: 19469.1872\n",
      "Epoch 47/200\n",
      "486/486 [==============================] - 0s 283us/sample - loss: 26694.5361 - val_loss: 19631.2549\n",
      "Epoch 48/200\n",
      "486/486 [==============================] - 0s 117us/sample - loss: 26612.2953 - val_loss: 18813.7894\n",
      "Epoch 49/200\n",
      "486/486 [==============================] - 0s 154us/sample - loss: 26749.1583 - val_loss: 18811.9048\n",
      "Epoch 50/200\n",
      "486/486 [==============================] - 0s 144us/sample - loss: 26766.6390 - val_loss: 18872.4878\n",
      "Epoch 51/200\n",
      "486/486 [==============================] - 0s 131us/sample - loss: 26601.2672 - val_loss: 18841.5509\n",
      "Epoch 52/200\n",
      "486/486 [==============================] - 0s 111us/sample - loss: 26615.9463 - val_loss: 18878.7439\n",
      "Epoch 53/200\n",
      "486/486 [==============================] - 0s 109us/sample - loss: 26668.5404 - val_loss: 18924.1556\n",
      "Epoch 54/200\n",
      "486/486 [==============================] - 0s 115us/sample - loss: 26652.5244 - val_loss: 18854.4681\n",
      "Epoch 55/200\n",
      "486/486 [==============================] - 0s 123us/sample - loss: 26597.1006 - val_loss: 18863.9856\n",
      "Epoch 56/200\n",
      "486/486 [==============================] - 0s 109us/sample - loss: 26552.9479 - val_loss: 18866.9258\n",
      "Epoch 57/200\n",
      "486/486 [==============================] - 0s 135us/sample - loss: 26726.8024 - val_loss: 18941.8653\n",
      "Epoch 58/200\n",
      "486/486 [==============================] - 0s 345us/sample - loss: 26870.6195 - val_loss: 19317.4068\n",
      "Epoch 59/200\n",
      "486/486 [==============================] - 0s 205us/sample - loss: 26636.1210 - val_loss: 19078.1036\n",
      "Epoch 60/200\n",
      "486/486 [==============================] - 0s 224us/sample - loss: 26283.4889 - val_loss: 22753.2918\n",
      "Epoch 61/200\n",
      "486/486 [==============================] - 0s 140us/sample - loss: 27584.7828 - val_loss: 19912.4573\n",
      "Epoch 62/200\n",
      "486/486 [==============================] - 0s 131us/sample - loss: 26833.2028 - val_loss: 19086.5109\n",
      "Epoch 63/200\n",
      "486/486 [==============================] - 0s 121us/sample - loss: 26582.9037 - val_loss: 20733.1643\n",
      "Epoch 64/200\n",
      "486/486 [==============================] - 0s 148us/sample - loss: 26867.6841 - val_loss: 19649.0625\n",
      "Epoch 65/200\n",
      "486/486 [==============================] - 0s 146us/sample - loss: 26630.6454 - val_loss: 18782.2660\n",
      "Epoch 66/200\n",
      "486/486 [==============================] - 0s 123us/sample - loss: 26686.0346 - val_loss: 19703.2586\n",
      "Epoch 67/200\n",
      "486/486 [==============================] - 0s 142us/sample - loss: 26702.7004 - val_loss: 19791.3692\n",
      "Epoch 68/200\n",
      "486/486 [==============================] - 0s 129us/sample - loss: 26792.0203 - val_loss: 18822.0859\n",
      "Epoch 69/200\n",
      "486/486 [==============================] - 0s 131us/sample - loss: 26519.0173 - val_loss: 18733.7577\n",
      "Epoch 70/200\n",
      "486/486 [==============================] - 0s 107us/sample - loss: 26542.7474 - val_loss: 18734.2596\n",
      "Epoch 71/200\n",
      "486/486 [==============================] - 0s 94us/sample - loss: 26654.3859 - val_loss: 18759.3833\n",
      "Epoch 72/200\n",
      "486/486 [==============================] - 0s 99us/sample - loss: 26646.1092 - val_loss: 18824.1595\n"
     ]
    },
    {
     "name": "stdout",
     "output_type": "stream",
     "text": [
      "Epoch 73/200\n",
      "486/486 [==============================] - 0s 84us/sample - loss: 26602.7263 - val_loss: 19173.2058\n",
      "Epoch 74/200\n",
      "486/486 [==============================] - 0s 82us/sample - loss: 26751.0009 - val_loss: 19894.9921\n",
      "Epoch 75/200\n",
      "486/486 [==============================] - 0s 84us/sample - loss: 26761.5423 - val_loss: 18723.5662\n",
      "Epoch 76/200\n",
      "486/486 [==============================] - 0s 76us/sample - loss: 26507.8471 - val_loss: 19216.3111\n",
      "Epoch 77/200\n",
      "486/486 [==============================] - 0s 68us/sample - loss: 26564.5289 - val_loss: 18931.7738\n",
      "Epoch 78/200\n",
      "486/486 [==============================] - 0s 86us/sample - loss: 26531.7591 - val_loss: 18703.7482\n",
      "Epoch 79/200\n",
      "486/486 [==============================] - 0s 107us/sample - loss: 26530.5220 - val_loss: 18803.1290\n",
      "Epoch 80/200\n",
      "486/486 [==============================] - 0s 86us/sample - loss: 26749.4729 - val_loss: 18868.5660\n",
      "Epoch 81/200\n",
      "486/486 [==============================] - 0s 103us/sample - loss: 26704.4657 - val_loss: 18699.9911\n",
      "Epoch 82/200\n",
      "486/486 [==============================] - 0s 82us/sample - loss: 26619.4586 - val_loss: 19534.3963\n",
      "Epoch 83/200\n",
      "486/486 [==============================] - 0s 99us/sample - loss: 26626.4587 - val_loss: 18861.1234\n",
      "Epoch 84/200\n",
      "486/486 [==============================] - 0s 105us/sample - loss: 26561.5910 - val_loss: 18691.0832\n",
      "Epoch 85/200\n",
      "486/486 [==============================] - 0s 103us/sample - loss: 26659.4656 - val_loss: 19348.1632\n",
      "Epoch 86/200\n",
      "486/486 [==============================] - 0s 84us/sample - loss: 26681.7053 - val_loss: 18675.0071\n",
      "Epoch 87/200\n",
      "486/486 [==============================] - ETA: 0s - loss: 16066.214 - 0s 70us/sample - loss: 26630.9108 - val_loss: 18723.3885\n",
      "Epoch 88/200\n",
      "486/486 [==============================] - 0s 76us/sample - loss: 26634.3621 - val_loss: 19420.6353\n",
      "Epoch 89/200\n",
      "486/486 [==============================] - 0s 68us/sample - loss: 26523.0226 - val_loss: 18817.4507\n",
      "Epoch 90/200\n",
      "486/486 [==============================] - 0s 66us/sample - loss: 26617.0513 - val_loss: 19991.3433\n",
      "Epoch 91/200\n",
      "486/486 [==============================] - 0s 72us/sample - loss: 26643.3145 - val_loss: 18865.9985\n",
      "Epoch 92/200\n",
      "486/486 [==============================] - 0s 68us/sample - loss: 26537.1606 - val_loss: 19029.2780\n",
      "Epoch 93/200\n",
      "486/486 [==============================] - 0s 70us/sample - loss: 26402.7456 - val_loss: 19101.7227\n",
      "Epoch 94/200\n",
      "486/486 [==============================] - 0s 86us/sample - loss: 26661.5454 - val_loss: 18811.1819\n",
      "Epoch 95/200\n",
      "486/486 [==============================] - 0s 78us/sample - loss: 26584.8709 - val_loss: 19979.4887\n",
      "Epoch 96/200\n",
      "486/486 [==============================] - 0s 88us/sample - loss: 26763.7334 - val_loss: 19626.4242\n",
      "Epoch 97/200\n",
      "486/486 [==============================] - 0s 78us/sample - loss: 26443.0497 - val_loss: 19153.0747\n",
      "Epoch 98/200\n",
      "486/486 [==============================] - 0s 76us/sample - loss: 26829.1466 - val_loss: 20615.9696\n",
      "Epoch 99/200\n",
      "486/486 [==============================] - 0s 72us/sample - loss: 26889.6974 - val_loss: 19033.0904\n",
      "Epoch 100/200\n",
      "486/486 [==============================] - 0s 64us/sample - loss: 26688.0884 - val_loss: 18727.7216\n",
      "Epoch 101/200\n",
      "486/486 [==============================] - 0s 70us/sample - loss: 26535.0403 - val_loss: 19576.8704\n",
      "Epoch 102/200\n",
      "486/486 [==============================] - 0s 68us/sample - loss: 26798.7074 - val_loss: 18709.8298\n",
      "Epoch 103/200\n",
      "486/486 [==============================] - 0s 74us/sample - loss: 26497.8950 - val_loss: 18841.0578\n",
      "Epoch 104/200\n",
      "486/486 [==============================] - 0s 72us/sample - loss: 26522.6272 - val_loss: 19747.0761\n",
      "Epoch 105/200\n",
      "486/486 [==============================] - 0s 84us/sample - loss: 26606.9702 - val_loss: 19820.6205\n",
      "Epoch 106/200\n",
      "486/486 [==============================] - 0s 84us/sample - loss: 26958.5018 - val_loss: 18683.8227\n",
      "Epoch 107/200\n",
      "486/486 [==============================] - 0s 82us/sample - loss: 26503.1730 - val_loss: 18889.5311\n",
      "Epoch 108/200\n",
      "486/486 [==============================] - 0s 78us/sample - loss: 26928.5942 - val_loss: 18698.0996\n",
      "Epoch 109/200\n",
      "486/486 [==============================] - 0s 70us/sample - loss: 26602.9745 - val_loss: 18845.7129\n",
      "Epoch 110/200\n",
      "486/486 [==============================] - 0s 84us/sample - loss: 26534.9814 - val_loss: 19275.8121\n",
      "Epoch 111/200\n",
      "486/486 [==============================] - 0s 109us/sample - loss: 26561.9385 - val_loss: 19108.5770\n",
      "Epoch 112/200\n",
      "486/486 [==============================] - 0s 90us/sample - loss: 26799.9526 - val_loss: 19218.3332\n",
      "Epoch 113/200\n",
      "486/486 [==============================] - 0s 90us/sample - loss: 26890.5925 - val_loss: 19036.9798\n",
      "Epoch 114/200\n",
      "486/486 [==============================] - 0s 96us/sample - loss: 26451.9056 - val_loss: 19080.3545\n",
      "Epoch 115/200\n",
      "486/486 [==============================] - 0s 90us/sample - loss: 26594.2121 - val_loss: 18695.3474\n",
      "Epoch 116/200\n",
      "486/486 [==============================] - 0s 78us/sample - loss: 26590.3706 - val_loss: 19864.6639\n",
      "Epoch 117/200\n",
      "486/486 [==============================] - 0s 66us/sample - loss: 26853.6824 - val_loss: 19183.1057\n",
      "Epoch 118/200\n",
      "486/486 [==============================] - 0s 70us/sample - loss: 26637.5707 - val_loss: 20008.7911\n",
      "Epoch 119/200\n",
      "486/486 [==============================] - 0s 82us/sample - loss: 26809.9894 - val_loss: 18825.6440\n",
      "Epoch 120/200\n",
      "486/486 [==============================] - 0s 86us/sample - loss: 26768.5809 - val_loss: 19787.0476\n",
      "Epoch 121/200\n",
      "486/486 [==============================] - 0s 78us/sample - loss: 26636.0811 - val_loss: 18727.5190\n",
      "Epoch 122/200\n",
      "486/486 [==============================] - 0s 96us/sample - loss: 26596.1303 - val_loss: 18962.2832\n",
      "Epoch 123/200\n",
      "486/486 [==============================] - 0s 84us/sample - loss: 26751.3104 - val_loss: 19336.8669\n",
      "Epoch 124/200\n",
      "486/486 [==============================] - 0s 76us/sample - loss: 26620.2709 - val_loss: 18783.5229\n",
      "Epoch 125/200\n",
      "486/486 [==============================] - 0s 78us/sample - loss: 26657.8053 - val_loss: 18850.8992\n",
      "Epoch 126/200\n",
      "486/486 [==============================] - 0s 76us/sample - loss: 26547.7998 - val_loss: 19419.3495\n",
      "Epoch 127/200\n",
      "486/486 [==============================] - 0s 72us/sample - loss: 26478.8286 - val_loss: 19267.0458\n",
      "Epoch 128/200\n",
      "486/486 [==============================] - 0s 76us/sample - loss: 26821.7709 - val_loss: 19464.7223\n",
      "Epoch 129/200\n",
      "486/486 [==============================] - 0s 70us/sample - loss: 26863.8118 - val_loss: 18836.2667\n",
      "Epoch 130/200\n",
      "486/486 [==============================] - 0s 80us/sample - loss: 26370.7792 - val_loss: 18992.1102\n",
      "Epoch 131/200\n",
      "486/486 [==============================] - 0s 86us/sample - loss: 26728.5295 - val_loss: 18746.8378\n",
      "Epoch 132/200\n",
      "486/486 [==============================] - 0s 80us/sample - loss: 26440.9808 - val_loss: 18718.6887\n",
      "Epoch 133/200\n",
      "486/486 [==============================] - 0s 70us/sample - loss: 26450.1554 - val_loss: 18836.9272\n",
      "Epoch 134/200\n",
      "486/486 [==============================] - 0s 72us/sample - loss: 26618.6785 - val_loss: 19113.8100\n",
      "Epoch 135/200\n",
      "486/486 [==============================] - 0s 68us/sample - loss: 26426.6558 - val_loss: 19573.9417\n",
      "Epoch 136/200\n",
      "486/486 [==============================] - 0s 68us/sample - loss: 26545.1997 - val_loss: 18736.3664\n",
      "Epoch 137/200\n",
      "486/486 [==============================] - 0s 68us/sample - loss: 26535.1041 - val_loss: 19257.5690\n",
      "Epoch 138/200\n",
      "486/486 [==============================] - 0s 66us/sample - loss: 26577.2744 - val_loss: 18797.7258\n",
      "Epoch 139/200\n",
      "486/486 [==============================] - 0s 72us/sample - loss: 26448.7373 - val_loss: 18696.9586\n",
      "Epoch 140/200\n",
      "486/486 [==============================] - 0s 70us/sample - loss: 26562.3412 - val_loss: 18766.9515\n",
      "Epoch 141/200\n",
      "486/486 [==============================] - 0s 70us/sample - loss: 26518.5065 - val_loss: 19101.3502\n",
      "Epoch 142/200\n",
      "486/486 [==============================] - 0s 125us/sample - loss: 26676.0763 - val_loss: 18693.4131\n",
      "Epoch 143/200\n",
      "486/486 [==============================] - 0s 92us/sample - loss: 26600.0132 - val_loss: 18683.6566\n",
      "Epoch 144/200\n",
      "486/486 [==============================] - 0s 88us/sample - loss: 26639.4545 - val_loss: 19241.4312\n"
     ]
    },
    {
     "name": "stdout",
     "output_type": "stream",
     "text": [
      "Epoch 145/200\n",
      "486/486 [==============================] - 0s 105us/sample - loss: 26532.0278 - val_loss: 18897.2897\n",
      "Epoch 146/200\n",
      "486/486 [==============================] - 0s 101us/sample - loss: 26588.7603 - val_loss: 18697.7551\n",
      "Epoch 147/200\n",
      "486/486 [==============================] - 0s 101us/sample - loss: 26495.2349 - val_loss: 18932.9700\n",
      "Epoch 148/200\n",
      "486/486 [==============================] - 0s 92us/sample - loss: 26669.5259 - val_loss: 18835.2579\n",
      "Epoch 149/200\n",
      "486/486 [==============================] - 0s 90us/sample - loss: 26602.8372 - val_loss: 18775.7256\n",
      "Epoch 150/200\n",
      "486/486 [==============================] - 0s 103us/sample - loss: 26627.8588 - val_loss: 19017.9452\n",
      "Epoch 151/200\n",
      "486/486 [==============================] - 0s 109us/sample - loss: 26728.1950 - val_loss: 20400.4791\n",
      "Epoch 152/200\n",
      "486/486 [==============================] - 0s 185us/sample - loss: 26617.7173 - val_loss: 18925.4020\n",
      "Epoch 153/200\n",
      "486/486 [==============================] - 0s 189us/sample - loss: 26749.7035 - val_loss: 18989.3046\n",
      "Epoch 154/200\n",
      "486/486 [==============================] - 0s 105us/sample - loss: 26627.2887 - val_loss: 18728.9533\n",
      "Epoch 155/200\n",
      "486/486 [==============================] - 0s 92us/sample - loss: 26469.8904 - val_loss: 18714.5361\n",
      "Epoch 156/200\n",
      "486/486 [==============================] - 0s 96us/sample - loss: 26664.2772 - val_loss: 18759.9495\n",
      "Epoch 157/200\n",
      "486/486 [==============================] - 0s 99us/sample - loss: 26502.6480 - val_loss: 19017.9563\n",
      "Epoch 158/200\n",
      "486/486 [==============================] - 0s 92us/sample - loss: 26617.7766 - val_loss: 19019.7079\n",
      "Epoch 159/200\n",
      "486/486 [==============================] - 0s 76us/sample - loss: 26573.5907 - val_loss: 18960.7114\n",
      "Epoch 160/200\n",
      "486/486 [==============================] - 0s 80us/sample - loss: 26580.6563 - val_loss: 19527.1074\n",
      "Epoch 161/200\n",
      "486/486 [==============================] - 0s 74us/sample - loss: 26730.0650 - val_loss: 18889.9776\n",
      "Epoch 162/200\n",
      "486/486 [==============================] - 0s 84us/sample - loss: 26534.9462 - val_loss: 18714.0911\n",
      "Epoch 163/200\n",
      "486/486 [==============================] - 0s 78us/sample - loss: 26734.4040 - val_loss: 19269.0377\n",
      "Epoch 164/200\n",
      "486/486 [==============================] - 0s 78us/sample - loss: 26722.2468 - val_loss: 18970.5391\n",
      "Epoch 165/200\n",
      "486/486 [==============================] - 0s 86us/sample - loss: 26669.0805 - val_loss: 18744.4849\n",
      "Epoch 166/200\n",
      "486/486 [==============================] - 0s 82us/sample - loss: 26718.0617 - val_loss: 19493.7198\n",
      "Epoch 167/200\n",
      "486/486 [==============================] - 0s 94us/sample - loss: 26571.0526 - val_loss: 19057.0510\n",
      "Epoch 168/200\n",
      "486/486 [==============================] - 0s 111us/sample - loss: 26433.1709 - val_loss: 19790.9151\n",
      "Epoch 169/200\n",
      "486/486 [==============================] - 0s 99us/sample - loss: 26692.5944 - val_loss: 19421.0824\n",
      "Epoch 170/200\n",
      "486/486 [==============================] - 0s 96us/sample - loss: 26590.2204 - val_loss: 19168.0930\n",
      "Epoch 171/200\n",
      "486/486 [==============================] - 0s 101us/sample - loss: 26623.4020 - val_loss: 18862.4313\n",
      "Epoch 172/200\n",
      "486/486 [==============================] - 0s 105us/sample - loss: 26589.1300 - val_loss: 18740.4237\n",
      "Epoch 173/200\n",
      "486/486 [==============================] - 0s 103us/sample - loss: 26660.4305 - val_loss: 18795.1000\n",
      "Epoch 174/200\n",
      "486/486 [==============================] - 0s 82us/sample - loss: 26588.1325 - val_loss: 18723.5585\n",
      "Epoch 175/200\n",
      "486/486 [==============================] - 0s 107us/sample - loss: 26272.7475 - val_loss: 20276.4235\n",
      "Epoch 176/200\n",
      "486/486 [==============================] - 0s 76us/sample - loss: 26920.4221 - val_loss: 18705.4100\n",
      "Epoch 177/200\n",
      "486/486 [==============================] - 0s 82us/sample - loss: 26545.4396 - val_loss: 18703.3718\n",
      "Epoch 178/200\n",
      "486/486 [==============================] - 0s 76us/sample - loss: 26697.0261 - val_loss: 18797.6238\n",
      "Epoch 179/200\n",
      "486/486 [==============================] - 0s 82us/sample - loss: 26446.2885 - val_loss: 18829.8943\n",
      "Epoch 180/200\n",
      "486/486 [==============================] - 0s 82us/sample - loss: 26462.5712 - val_loss: 18733.7054\n",
      "Epoch 181/200\n",
      "486/486 [==============================] - 0s 82us/sample - loss: 26483.8598 - val_loss: 18804.1262\n",
      "Epoch 182/200\n",
      "486/486 [==============================] - 0s 84us/sample - loss: 26691.8026 - val_loss: 18729.2796\n",
      "Epoch 183/200\n",
      "486/486 [==============================] - 0s 129us/sample - loss: 26476.4492 - val_loss: 18914.9525\n",
      "Epoch 184/200\n",
      "486/486 [==============================] - 0s 168us/sample - loss: 26557.8574 - val_loss: 18847.0967\n",
      "Epoch 185/200\n",
      "486/486 [==============================] - 0s 156us/sample - loss: 26484.5240 - val_loss: 19710.9274\n",
      "Epoch 186/200\n",
      "486/486 [==============================] - 0s 121us/sample - loss: 26635.0275 - val_loss: 18819.9726\n",
      "Epoch 187/200\n",
      "486/486 [==============================] - 0s 142us/sample - loss: 26531.2602 - val_loss: 18711.8256\n",
      "Epoch 188/200\n",
      "486/486 [==============================] - 0s 135us/sample - loss: 26699.0538 - val_loss: 18911.7411\n",
      "Epoch 189/200\n",
      "486/486 [==============================] - 0s 131us/sample - loss: 26623.3016 - val_loss: 19697.7911\n",
      "Epoch 190/200\n",
      "486/486 [==============================] - 0s 150us/sample - loss: 26611.4394 - val_loss: 18837.3108\n",
      "Epoch 191/200\n",
      "486/486 [==============================] - 0s 263us/sample - loss: 26577.4393 - val_loss: 19320.3322\n",
      "Epoch 192/200\n",
      "486/486 [==============================] - 0s 207us/sample - loss: 26682.9262 - val_loss: 18716.8356\n",
      "Epoch 193/200\n",
      "486/486 [==============================] - 0s 242us/sample - loss: 26464.1978 - val_loss: 18780.9478\n",
      "Epoch 194/200\n",
      "486/486 [==============================] - 0s 226us/sample - loss: 26555.6867 - val_loss: 18774.6938\n",
      "Epoch 195/200\n",
      "486/486 [==============================] - 0s 125us/sample - loss: 26548.1594 - val_loss: 19483.4945\n",
      "Epoch 196/200\n",
      "486/486 [==============================] - 0s 117us/sample - loss: 26538.1473 - val_loss: 18765.4100\n",
      "Epoch 197/200\n",
      "486/486 [==============================] - 0s 117us/sample - loss: 26753.1530 - val_loss: 18930.9980\n",
      "Epoch 198/200\n",
      "486/486 [==============================] - 0s 220us/sample - loss: 26539.0639 - val_loss: 18774.4886\n",
      "Epoch 199/200\n",
      "486/486 [==============================] - 0s 154us/sample - loss: 26512.2585 - val_loss: 18949.6895\n",
      "Epoch 200/200\n",
      "486/486 [==============================] - 0s 121us/sample - loss: 26579.4618 - val_loss: 18787.9940\n"
     ]
    }
   ],
   "source": [
    "history = model.fit(x_train, y_train, epochs=200, batch_size=32, validation_data =(x_val, y_val))"
   ]
  },
  {
   "cell_type": "code",
   "execution_count": 671,
   "metadata": {},
   "outputs": [
    {
     "name": "stdout",
     "output_type": "stream",
     "text": [
      "dict : {'loss': [57993.7728909465, 45542.71611368313, 42319.656619727364, 39039.346225565845, 36828.32934670782, 34752.392686631945, 33129.13912197788, 32080.20106738683, 31395.534521283436, 30083.387626993313, 29663.246013374486, 30047.603330761318, 28578.106263462898, 28220.953896604937, 27879.954443158436, 27638.119389789095, 27394.89206372171, 27440.163660622427, 27247.615598074204, 27021.69325488683, 26994.432934670782, 26975.48353909465, 27070.784221884645, 26730.51489358282, 26692.739691840277, 26758.68928433642, 26859.357052147632, 26763.05659239969, 26686.35431134259, 26615.96138559349, 26679.242058899177, 26900.428526073818, 26605.3002186214, 27003.815461837705, 26612.84495965149, 26675.087247620886, 26466.41089972351, 26565.0856561857, 26638.34467029964, 26837.6478909465, 26562.124742798354, 27331.546167695473, 27404.418507265946, 26788.6713123714, 26732.6274996785, 26766.62644675926, 26694.536086596578, 26612.295289592977, 26749.15825135031, 26766.639049639918, 26601.267232510287, 26615.94632523148, 26668.540440940073, 26652.524361818414, 26597.10055780607, 26552.94793274177, 26726.802380722736, 26870.61947016461, 26636.12095309285, 26283.488940329218, 27584.782825360082, 26833.202763310186, 26582.903718171296, 26867.684059927982, 26630.64540533372, 26686.034577546296, 26702.70037615741, 26792.020278742282, 26519.0172968107, 26542.747387795782, 26654.3858908822, 26646.109166023663, 26602.72630931713, 26751.00088413066, 26761.542293595678, 26507.84709161201, 26564.528927147632, 26531.7590703768, 26530.522018872172, 26749.472921489196, 26704.46574395576, 26619.458558384773, 26626.458707079477, 26561.590985082305, 26659.465647505145, 26681.705271026236, 26630.91081633391, 26634.362083654836, 26523.022569444445, 26617.051303690845, 26643.314549575618, 26537.160566165123, 26402.745627572018, 26661.54543828768, 26584.87087673611, 26763.73340647505, 26443.049696180555, 26829.146629050927, 26889.69737011317, 26688.08839699074, 26535.040316358023, 26798.70739695859, 26497.894997427982, 26522.627194251545, 26606.970216853137, 26958.501792373972, 26503.1729841821, 26928.5941639339, 26602.97453352061, 26534.981401105968, 26561.93845044046, 26799.952602559155, 26890.59252829218, 26451.905638141398, 26594.212075818225, 26590.37057934671, 26853.68236199524, 26637.57069830247, 26809.989402488427, 26768.580918049127, 26636.081074781378, 26596.130336934155, 26751.3104142554, 26620.27092978395, 26657.805274241255, 26547.799836837705, 26478.828619309414, 26821.77087352109, 26863.81183288323, 26370.77915621785, 26728.52951388889, 26440.98079828961, 26450.155389981996, 26618.67845775463, 26426.655775784464, 26545.199652777777, 26535.10412647891, 26577.27444219393, 26448.737308706277, 26562.341210133745, 26518.506486304013, 26676.0763044946, 26600.013241866, 26639.4545315715, 26532.027760195633, 26588.760304140946, 26495.234907487782, 26669.525921103395, 26602.837247620886, 26627.858796296296, 26728.194999035495, 26617.717335390946, 26749.703470614713, 26627.288670669368, 26469.890367798354, 26664.277207111627, 26502.64801552855, 26617.776588220164, 26573.590734913516, 26580.65629822531, 26730.064993650336, 26534.94623279964, 26734.404031635804, 26722.246793016977, 26669.080480002573, 26718.061668113427, 26571.052613811727, 26433.170942644032, 26692.59439702289, 26590.220441904577, 26623.401984069573, 26589.129977253728, 26660.430535461677, 26588.132450810186, 26272.7475003215, 26920.422124164095, 26545.439637988682, 26697.02611400463, 26446.288467721195, 26462.57118658372, 26483.859776877573, 26691.80256558642, 26476.449202674896, 26557.857372644998, 26484.52404835391, 26635.027488425927, 26531.260183577673, 26699.05376920975, 26623.301605099023, 26611.439437049896, 26577.439308449073, 26682.926211259, 26464.19777199074, 26555.6866721322, 26548.15943287037, 26538.147304205246, 26753.15299881044, 26539.063866383745, 26512.25853587963, 26579.461785461677], 'val_loss': [42038.970030737706, 37863.43545081967, 34477.07966188525, 32219.287013319674, 30255.63390112705, 27844.26741803279, 26455.391201331968, 27684.755186987706, 24441.69742571721, 23658.035540471312, 27087.23898565574, 22045.831839139344, 21609.87973872951, 21345.86148821721, 21306.745069159835, 20477.83004610656, 20775.301165471312, 20061.06275614754, 19950.733478483606, 20626.169825819674, 19622.15823514344, 19936.699410860656, 19515.76363985656, 19610.36071977459, 19609.600089651638, 19868.468814036885, 19865.891265368853, 19254.997502561477, 19318.51658555328, 18994.76002177254, 19037.614914190573, 19008.518506659835, 20165.234567110656, 18861.05090932377, 18874.083568135247, 18871.894851434427, 19248.53099385246, 19291.656057889344, 18983.162749743853, 19369.590324026638, 20568.32898949795, 23865.060771004097, 18855.41489497951, 18830.747406506147, 18873.057088883197, 19469.18724385246, 19631.25486680328, 18813.789446721312, 18811.904777151638, 18872.487832991803, 18841.55090932377, 18878.743916495903, 18924.15564164959, 18854.468109631147, 18863.98562371926, 18866.925845286885, 18941.865330430326, 19317.406762295082, 19078.103611680326, 22753.29184810451, 19912.457319415982, 19086.51088627049, 20733.16431864754, 19649.0625, 18782.265977202867, 19703.258580942624, 19791.369236680326, 18822.0859375, 18733.757716444674, 18734.25963755123, 18759.383260758197, 18824.159515881147, 19173.205750512294, 19894.99205942623, 18723.56624615779, 19216.311091188523, 18931.773757684427, 18703.74820696721, 18803.129002305326, 18868.565957991803, 18699.99109887295, 19534.396260245903, 18861.123399077867, 18691.083183913935, 19348.163165983606, 18675.007140112706, 18723.38851178279, 19420.635309938523, 18817.450723616803, 19991.343301741803, 18865.998463114753, 19029.27804815574, 19101.72265625, 18811.181864754097, 19979.488665471312, 19626.424244364753, 19153.074731045082, 20615.96958247951, 19033.090356045082, 18727.721631659835, 19576.87038934426, 18709.829757940573, 18841.057825307376, 19747.07613985656, 19820.620517418032, 18683.822713883197, 18889.53108990779, 18698.09957735656, 18845.71292264344, 19275.812083760247, 19108.57703637295, 19218.333183913935, 19036.979828381147, 19080.35450819672, 18695.34740010246, 19864.663870389344, 19183.105660860656, 20008.79114369877, 18825.643986936477, 19787.04757940574, 18727.519018954918, 18962.28317110656, 19336.86693135246, 18783.522861168032, 18850.899205942624, 19419.349513319674, 19267.04578637295, 19464.722272028688, 18836.266681608606, 18992.11023949795, 18746.83776255123, 18718.68871670082, 18836.927222079918, 19113.810002561477, 19573.94166239754, 18736.366419057376, 19257.56896772541, 18797.725762038935, 18696.958600153688, 18766.951492059427, 19101.350185706968, 18693.41306992828, 18683.656634221312, 19241.431160348362, 18897.289702868853, 18697.755058913935, 18932.96996670082, 18835.257876536885, 18775.725633965165, 19017.945248463115, 20400.479059938523, 18925.401991547133, 18989.30455942623, 18728.95328509221, 18714.536052766394, 18759.94947489754, 19017.95632684426, 19019.707927766394, 18960.711449795082, 19527.107357838115, 18889.97755507172, 18714.09109246926, 19269.03771772541, 18970.539126536885, 18744.484855276638, 19493.719774590165, 19057.050973360656, 19790.915087090165, 19421.082415471312, 19168.09304559426, 18862.431288422133, 18740.423732069674, 18795.100025614753, 18723.55846567623, 20276.423475922133, 18705.41002817623, 18703.37183017418, 18797.623815317624, 18829.89427510246, 18733.705398309427, 18804.12624871926, 18729.279649077867, 18914.952484631147, 18847.09669569672, 19710.927414190573, 18819.97262423156, 18711.82556352459, 18911.74109887295, 19697.791111680326, 18837.310835040982, 19320.332223360656, 18716.835617315573, 18780.947777920082, 18774.693775614753, 19483.494524846312, 18765.409964139344, 18930.997982838115, 18774.488601434427, 18949.68948514344, 18787.99398053279]}\n"
     ]
    }
   ],
   "source": [
    "print(\"dict :\",history.history)"
   ]
  },
  {
   "cell_type": "code",
   "execution_count": 672,
   "metadata": {},
   "outputs": [
    {
     "data": {
      "image/png": "[encoded data removed]",
      "text/plain": [
       "<Figure size 576x936 with 1 Axes>"
      ]
     },
     "metadata": {
      "needs_background": "light"
     },
     "output_type": "display_data"
    }
   ],
   "source": [
    "plt.figure(figsize=(8,13))\n",
    "plt.plot(history.history['loss'])\n",
    "plt.plot(history.history['val_loss'])\n",
    "plt.ylabel('loss')\n",
    "plt.xlabel('iteration')\n",
    "plt.legend(['train_loss','val_loss'])\n",
    "plt.show()\n",
    "\n"
   ]
  },
  {
   "cell_type": "code",
   "execution_count": 673,
   "metadata": {},
   "outputs": [
    {
     "name": "stdout",
     "output_type": "stream",
     "text": [
      "\r",
      "152/1 [================================================================================================================================================================================================================================================================================================================================================================================================================================================================================================================================================================================================================================================================================================================================================================================================================================================================================================================================================================================================================================================================================================================================================================================================================================================================================================================================================================================================================================================================================================================================================================================================================================================================================================================================================================================================================================================================================================================================================================================================================================================================================================================================================================================================================================================================================================================================================================================================================================================================================================================================================================================================================================================================================================================================================================================================================================================================================================================================================================================================================================================================================================================================================================================================================================================================================================================================================================================================================================================================================================================================================================================================================================================================================================================================================================================================================================================================================================================================================================================================================================================================================================================================================================================================================================================================================================================================================================================================================================================================================================================================================================================================================================================================================================================================================] - 0s 79us/sample - loss: 19437.6311\n"
     ]
    }
   ],
   "source": [
    "score = model.evaluate(x_test, y_test)"
   ]
  },
  {
   "cell_type": "code",
   "execution_count": 674,
   "metadata": {},
   "outputs": [
    {
     "name": "stdout",
     "output_type": "stream",
     "text": [
      "23480.937037417763\n"
     ]
    }
   ],
   "source": [
    "print(score)"
   ]
  },
  {
   "cell_type": "code",
   "execution_count": 675,
   "metadata": {},
   "outputs": [],
   "source": [
    "from tensorflow.keras.models import load_model"
   ]
  },
  {
   "cell_type": "code",
   "execution_count": 676,
   "metadata": {},
   "outputs": [],
   "source": [
    "input_array = np.array([27,30,25,110])"
   ]
  },
  {
   "cell_type": "code",
   "execution_count": 677,
   "metadata": {},
   "outputs": [],
   "source": [
    "input_array_for_prediction = np.expand_dims(input_array,axis=0)"
   ]
  },
  {
   "cell_type": "code",
   "execution_count": 678,
   "metadata": {},
   "outputs": [
    {
     "name": "stdout",
     "output_type": "stream",
     "text": [
      "[[-151.18564]]\n"
     ]
    }
   ],
   "source": [
    "print(model.predict(input_array_for_prediction))"
   ]
  },
  {
   "cell_type": "code",
   "execution_count": 679,
   "metadata": {},
   "outputs": [],
   "source": [
    "export_path = 'D:/pk_data'"
   ]
  },
  {
   "cell_type": "code",
   "execution_count": 680,
   "metadata": {},
   "outputs": [
    {
     "name": "stdout",
     "output_type": "stream",
     "text": [
      "INFO:tensorflow:Assets written to: D:/pk_data\\assets\n"
     ]
    }
   ],
   "source": [
    "model.save(export_path,save_format=\"tf\")"
   ]
  },
  {
   "cell_type": "code",
   "execution_count": 681,
   "metadata": {},
   "outputs": [],
   "source": [
    "saved_model_dir=\"D:/pk_data\""
   ]
  },
  {
   "cell_type": "code",
   "execution_count": 682,
   "metadata": {},
   "outputs": [],
   "source": [
    "converter = tf.lite.TFLiteConverter.from_saved_model(saved_model_dir)"
   ]
  },
  {
   "cell_type": "code",
   "execution_count": 683,
   "metadata": {},
   "outputs": [],
   "source": [
    "converter.target_spec.supported_ops=[tf.lite.OpsSet.TFLITE_BUILTINS,tf.lite.OpsSet.SELECT_TF_OPS]"
   ]
  },
  {
   "cell_type": "code",
   "execution_count": 684,
   "metadata": {},
   "outputs": [],
   "source": [
    "tflite_model=converter.convert()"
   ]
  },
  {
   "cell_type": "code",
   "execution_count": 685,
   "metadata": {},
   "outputs": [
    {
     "data": {
      "text/plain": [
       "800"
      ]
     },
     "execution_count": 685,
     "metadata": {},
     "output_type": "execute_result"
    }
   ],
   "source": [
    "open('D:/pk_data/converted_model.tflite','wb').write(tflite_model)"
   ]
  },
  {
   "cell_type": "code",
   "execution_count": null,
   "metadata": {},
   "outputs": [],
   "source": []
  },
  {
   "cell_type": "code",
   "execution_count": null,
   "metadata": {},
   "outputs": [],
   "source": []
  }
 ],
 "metadata": {
  "kernelspec": {
   "display_name": "Python 3",
   "language": "python",
   "name": "python3"
  },
  "language_info": {
   "codemirror_mode": {
    "name": "ipython",
    "version": 3
   },
   "file_extension": ".py",
   "mimetype": "text/x-python",
   "name": "python",
   "nbconvert_exporter": "python",
   "pygments_lexer": "ipython3",
   "version": "3.7.7"
  }
 },
 "nbformat": 4,
 "nbformat_minor": 4
}
